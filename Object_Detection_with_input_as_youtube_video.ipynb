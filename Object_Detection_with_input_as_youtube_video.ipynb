{
  "nbformat": 4,
  "nbformat_minor": 0,
  "metadata": {
    "colab": {
      "provenance": [],
      "gpuType": "T4"
    },
    "kernelspec": {
      "name": "python3",
      "display_name": "Python 3"
    },
    "language_info": {
      "name": "python"
    },
    "accelerator": "GPU"
  },
  "cells": [
    {
      "cell_type": "code",
      "source": [
        "# Install pytube\n",
        "!pip install pytube\n",
        "\n",
        "# Install OpenCV (cv2)\n",
        "!pip install opencv-python\n",
        "\n",
        "# Install PyTorch and torchvision\n",
        "!pip install torch torchvision\n",
        "\n",
        "# Clone YOLOv5 repository\n",
        "!git clone https://github.com/ultralytics/yolov5  # clone repo\n",
        "%cd yolov5\n",
        "!git reset --hard  # reset git\n",
        "!git pull  # pull latest\n",
        "\n",
        "# Install YOLOv5 dependencies\n",
        "!pip install -qr requirements.txt"
      ],
      "metadata": {
        "id": "had-91YFBEDk"
      },
      "execution_count": null,
      "outputs": []
    },
    {
      "cell_type": "code",
      "source": [
        "import cv2\n",
        "from pytube import YouTube\n",
        "from google.colab.patches import cv2_imshow  # Required for Google Colab\n",
        "from pathlib import Path\n",
        "\n",
        "# Install pytube\n",
        "!pip install pytube\n",
        "\n",
        "# Clone YOLOv5 repository\n",
        "!git clone https://github.com/ultralytics/yolov5  # clone repo\n",
        "%cd yolov5\n",
        "!git reset --hard  # reset git\n",
        "!git pull  # pull latest\n",
        "!pip install -qr requirements.txt  # install dependencies\n",
        "\n",
        "# Load YOLOv5 model\n",
        "import torch\n",
        "\n",
        "model = torch.hub.load('ultralytics/yolov5', 'yolov5s', pretrained=True)\n",
        "\n",
        "# Function to detect objects using YOLOv5\n",
        "def detect_objects_yolov5(frame, model):\n",
        "    results = model(frame)\n",
        "    return results\n",
        "\n",
        "# Function to process the video\n",
        "def process_video_youtube(video_url):\n",
        "    # Load YouTube video\n",
        "    yt = YouTube(video_url)\n",
        "    stream = yt.streams.filter(file_extension=\"mp4\").first()\n",
        "    stream.download(output_path=\"/content\", filename=\"video.mp4\")\n",
        "    video_path = Path(\"/content/video.mp4\")\n",
        "\n",
        "    # Open video stream\n",
        "    cap = cv2.VideoCapture(str(video_path))\n",
        "\n",
        "    while cap.isOpened():\n",
        "        ret, frame = cap.read()\n",
        "        if not ret:\n",
        "            break\n",
        "\n",
        "        # Resize frame to 640x480 (YOLOv5 input size)\n",
        "        frame = cv2.resize(frame, (640, 480))\n",
        "\n",
        "        # Detect objects using YOLOv5\n",
        "        results = detect_objects_yolov5(frame, model)\n",
        "\n",
        "        # Display frame with bounding boxes\n",
        "        results.show()\n",
        "\n",
        "        if cv2.waitKey(1) & 0xFF == ord('q'):\n",
        "            break\n",
        "\n",
        "    cap.release()\n",
        "    cv2.destroyAllWindows()\n",
        "\n",
        "# Provide YouTube video link\n",
        "video_link = \"https://www.youtube.com/watch?v=XDkzm_LR0Co&ab_channel=DougDeMuro\"\n",
        "process_video_youtube(video_link)\n"
      ],
      "metadata": {
        "id": "4F6piWqxBF00"
      },
      "execution_count": null,
      "outputs": []
    }
  ]
}